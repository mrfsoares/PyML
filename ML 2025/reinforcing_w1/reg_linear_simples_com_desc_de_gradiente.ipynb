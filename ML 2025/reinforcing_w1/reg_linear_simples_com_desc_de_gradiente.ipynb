{
 "cells": [
  {
   "cell_type": "markdown",
   "id": "ad1c89af-db7b-43c6-8728-a68cdaab6a4b",
   "metadata": {},
   "source": [
    "### Sobre o Notebook:\n",
    "\n",
    "Esse Notebook faz parte de um exercício de explorar exemplos novos de modelos de regressão linear em Python após a conclusão da primeira semana do curso Aprendizado de máquina supervisionado: Regressão e classificação, da DeepLearning.AI, com o objetivo de fixar o conteúdo apresentado. Na primeira semana do curso exploramos bastante a descida de gradiente e sua intuição. Aqui irei explorar mais a fundo a sua aplicação.\n",
    "\n",
    "**Nota:** Enquanto no aprendizado supervisionado, os dados vêm com entradas x e rótulos de entrada y, no aprendizado não supervisionado, os dados vêm apenas com entradas x, mas não com rótulos de saída y, e o algoritmo precisa encontrar alguma estrutura ou algum padrão ou algo interessante nos dados. Os dois principais tipos de aprendizado supervisionado são regressão e classificação. Aqui trataremos da regressão!\n",
    "\n",
    "---\n",
    "\n",
    "No presente Notebook usei a aula da UFG como base para aprofundamento.\n",
    "\n",
    "O link da aula é o https://www.youtube.com/watch?v=nqNCNSg0Bt4\n",
    "\n",
    "Outros materiais de referência foram utilizados e se encontram devidamente citados ao longo do Notebook.\n",
    "\n",
    "---"
   ]
  },
  {
   "cell_type": "markdown",
   "id": "d98b7bff-6466-47a0-8cee-1d7858b9c746",
   "metadata": {},
   "source": [
    "---\n",
    "\n",
    "#### Importando pacotes necessários"
   ]
  },
  {
   "cell_type": "code",
   "execution_count": 1,
   "id": "63a410e2-2675-4dc1-8160-ec46e7166ea0",
   "metadata": {},
   "outputs": [],
   "source": [
    "import pandas as pd\n",
    "import numpy as np\n",
    "import matplotlib.pyplot as plt\n",
    "\n",
    "import os\n",
    "\n",
    "from sklearn.preprocessing import StandardScaler # utilizada para normalizar dados p/ evitar problemas de aprendizado (geralmente entre -1 e 1)\n",
    "from sklearn.model_selection import train_test_split # possibilita dividir os dados entre dados de treino e teste\n",
    "from sklearn.linear_model import SGDRegressor # algoritmo de descida de gradiente estocástico p/ regressão"
   ]
  },
  {
   "cell_type": "markdown",
   "id": "1e8e9b8d-30dc-4f28-b996-ce210f931b4d",
   "metadata": {},
   "source": [
    "---\n",
    "\n",
    "#### Carregando dataset"
   ]
  },
  {
   "cell_type": "code",
   "execution_count": 2,
   "id": "346a6571-b7b9-4eac-b7c0-51eb44df8f3c",
   "metadata": {},
   "outputs": [
    {
     "name": "stdout",
     "output_type": "stream",
     "text": [
      "C:\\Users\\Maria Rafaela\\Documents\\Cursos\\ML 2024\\reinforcing\n"
     ]
    }
   ],
   "source": [
    "print(os.getcwd())"
   ]
  },
  {
   "cell_type": "markdown",
   "id": "5a680ba8-a714-4477-9510-68eb76f7ed52",
   "metadata": {},
   "source": [
    "``Dataset origin: https://www.kaggle.com/datasets/uciml/autompg-dataset?resource=download``"
   ]
  },
  {
   "cell_type": "code",
   "execution_count": 3,
   "id": "c9fe0110-c0b4-42bc-959e-ca03eedab336",
   "metadata": {},
   "outputs": [],
   "source": [
    "df = pd.read_csv(os.getcwd() + '\\\\auto-mpg.csv')"
   ]
  },
  {
   "cell_type": "code",
   "execution_count": 4,
   "id": "0d4cadc1-ac37-4d84-9a8b-073b31832588",
   "metadata": {},
   "outputs": [
    {
     "data": {
      "text/html": [
       "<div>\n",
       "<style scoped>\n",
       "    .dataframe tbody tr th:only-of-type {\n",
       "        vertical-align: middle;\n",
       "    }\n",
       "\n",
       "    .dataframe tbody tr th {\n",
       "        vertical-align: top;\n",
       "    }\n",
       "\n",
       "    .dataframe thead th {\n",
       "        text-align: right;\n",
       "    }\n",
       "</style>\n",
       "<table border=\"1\" class=\"dataframe\">\n",
       "  <thead>\n",
       "    <tr style=\"text-align: right;\">\n",
       "      <th></th>\n",
       "      <th>mpg</th>\n",
       "      <th>cylinders</th>\n",
       "      <th>displacement</th>\n",
       "      <th>horsepower</th>\n",
       "      <th>weight</th>\n",
       "      <th>acceleration</th>\n",
       "      <th>model year</th>\n",
       "      <th>origin</th>\n",
       "      <th>car name</th>\n",
       "    </tr>\n",
       "  </thead>\n",
       "  <tbody>\n",
       "    <tr>\n",
       "      <th>0</th>\n",
       "      <td>18.0</td>\n",
       "      <td>8</td>\n",
       "      <td>307.0</td>\n",
       "      <td>130</td>\n",
       "      <td>3504</td>\n",
       "      <td>12.0</td>\n",
       "      <td>70</td>\n",
       "      <td>1</td>\n",
       "      <td>chevrolet chevelle malibu</td>\n",
       "    </tr>\n",
       "    <tr>\n",
       "      <th>1</th>\n",
       "      <td>15.0</td>\n",
       "      <td>8</td>\n",
       "      <td>350.0</td>\n",
       "      <td>165</td>\n",
       "      <td>3693</td>\n",
       "      <td>11.5</td>\n",
       "      <td>70</td>\n",
       "      <td>1</td>\n",
       "      <td>buick skylark 320</td>\n",
       "    </tr>\n",
       "    <tr>\n",
       "      <th>2</th>\n",
       "      <td>18.0</td>\n",
       "      <td>8</td>\n",
       "      <td>318.0</td>\n",
       "      <td>150</td>\n",
       "      <td>3436</td>\n",
       "      <td>11.0</td>\n",
       "      <td>70</td>\n",
       "      <td>1</td>\n",
       "      <td>plymouth satellite</td>\n",
       "    </tr>\n",
       "    <tr>\n",
       "      <th>3</th>\n",
       "      <td>16.0</td>\n",
       "      <td>8</td>\n",
       "      <td>304.0</td>\n",
       "      <td>150</td>\n",
       "      <td>3433</td>\n",
       "      <td>12.0</td>\n",
       "      <td>70</td>\n",
       "      <td>1</td>\n",
       "      <td>amc rebel sst</td>\n",
       "    </tr>\n",
       "    <tr>\n",
       "      <th>4</th>\n",
       "      <td>17.0</td>\n",
       "      <td>8</td>\n",
       "      <td>302.0</td>\n",
       "      <td>140</td>\n",
       "      <td>3449</td>\n",
       "      <td>10.5</td>\n",
       "      <td>70</td>\n",
       "      <td>1</td>\n",
       "      <td>ford torino</td>\n",
       "    </tr>\n",
       "    <tr>\n",
       "      <th>...</th>\n",
       "      <td>...</td>\n",
       "      <td>...</td>\n",
       "      <td>...</td>\n",
       "      <td>...</td>\n",
       "      <td>...</td>\n",
       "      <td>...</td>\n",
       "      <td>...</td>\n",
       "      <td>...</td>\n",
       "      <td>...</td>\n",
       "    </tr>\n",
       "    <tr>\n",
       "      <th>393</th>\n",
       "      <td>27.0</td>\n",
       "      <td>4</td>\n",
       "      <td>140.0</td>\n",
       "      <td>86</td>\n",
       "      <td>2790</td>\n",
       "      <td>15.6</td>\n",
       "      <td>82</td>\n",
       "      <td>1</td>\n",
       "      <td>ford mustang gl</td>\n",
       "    </tr>\n",
       "    <tr>\n",
       "      <th>394</th>\n",
       "      <td>44.0</td>\n",
       "      <td>4</td>\n",
       "      <td>97.0</td>\n",
       "      <td>52</td>\n",
       "      <td>2130</td>\n",
       "      <td>24.6</td>\n",
       "      <td>82</td>\n",
       "      <td>2</td>\n",
       "      <td>vw pickup</td>\n",
       "    </tr>\n",
       "    <tr>\n",
       "      <th>395</th>\n",
       "      <td>32.0</td>\n",
       "      <td>4</td>\n",
       "      <td>135.0</td>\n",
       "      <td>84</td>\n",
       "      <td>2295</td>\n",
       "      <td>11.6</td>\n",
       "      <td>82</td>\n",
       "      <td>1</td>\n",
       "      <td>dodge rampage</td>\n",
       "    </tr>\n",
       "    <tr>\n",
       "      <th>396</th>\n",
       "      <td>28.0</td>\n",
       "      <td>4</td>\n",
       "      <td>120.0</td>\n",
       "      <td>79</td>\n",
       "      <td>2625</td>\n",
       "      <td>18.6</td>\n",
       "      <td>82</td>\n",
       "      <td>1</td>\n",
       "      <td>ford ranger</td>\n",
       "    </tr>\n",
       "    <tr>\n",
       "      <th>397</th>\n",
       "      <td>31.0</td>\n",
       "      <td>4</td>\n",
       "      <td>119.0</td>\n",
       "      <td>82</td>\n",
       "      <td>2720</td>\n",
       "      <td>19.4</td>\n",
       "      <td>82</td>\n",
       "      <td>1</td>\n",
       "      <td>chevy s-10</td>\n",
       "    </tr>\n",
       "  </tbody>\n",
       "</table>\n",
       "<p>398 rows × 9 columns</p>\n",
       "</div>"
      ],
      "text/plain": [
       "      mpg  cylinders  displacement horsepower  weight  acceleration   \n",
       "0    18.0          8         307.0        130    3504          12.0  \\\n",
       "1    15.0          8         350.0        165    3693          11.5   \n",
       "2    18.0          8         318.0        150    3436          11.0   \n",
       "3    16.0          8         304.0        150    3433          12.0   \n",
       "4    17.0          8         302.0        140    3449          10.5   \n",
       "..    ...        ...           ...        ...     ...           ...   \n",
       "393  27.0          4         140.0         86    2790          15.6   \n",
       "394  44.0          4          97.0         52    2130          24.6   \n",
       "395  32.0          4         135.0         84    2295          11.6   \n",
       "396  28.0          4         120.0         79    2625          18.6   \n",
       "397  31.0          4         119.0         82    2720          19.4   \n",
       "\n",
       "     model year  origin                   car name  \n",
       "0            70       1  chevrolet chevelle malibu  \n",
       "1            70       1          buick skylark 320  \n",
       "2            70       1         plymouth satellite  \n",
       "3            70       1              amc rebel sst  \n",
       "4            70       1                ford torino  \n",
       "..          ...     ...                        ...  \n",
       "393          82       1            ford mustang gl  \n",
       "394          82       2                  vw pickup  \n",
       "395          82       1              dodge rampage  \n",
       "396          82       1                ford ranger  \n",
       "397          82       1                 chevy s-10  \n",
       "\n",
       "[398 rows x 9 columns]"
      ]
     },
     "execution_count": 4,
     "metadata": {},
     "output_type": "execute_result"
    }
   ],
   "source": [
    "df"
   ]
  },
  {
   "cell_type": "markdown",
   "id": "1a86f94d-6298-4b59-8450-d020f5a956bf",
   "metadata": {},
   "source": [
    "---\n",
    "\n",
    "**Variables:**\n",
    "\n",
    "- mpg: Indicates the fuel efficiency of the car in miles per gallon.\n",
    "\n",
    "- cylinders: Represents the number of cylinders in the engine.\n",
    "\n",
    "- displacement: Engine size, measured in cubic inches.\n",
    "\n",
    "- horsepower: The engine's power, reflecting performance capability.\n",
    "\n",
    "- weight: Weight of the car, which affects fuel efficiency and performance.\n",
    "\n",
    "- acceleration: Time required for the car to accelerate from 0 to a certain speed.\n",
    "\n",
    "- model year: The year when the car model was released or manufactured.\n",
    "\n",
    "- origin: Region or country where the car was manufactured (e.g., USA, Europe).\n",
    "\n",
    "- car name: Descriptive name or identifier for the car model.\n",
    "\n",
    "---"
   ]
  },
  {
   "cell_type": "code",
   "execution_count": 5,
   "id": "fdddc39d-a69c-4409-95be-d724a3b0da3c",
   "metadata": {},
   "outputs": [
    {
     "name": "stdout",
     "output_type": "stream",
     "text": [
      "<class 'pandas.core.frame.DataFrame'>\n",
      "RangeIndex: 398 entries, 0 to 397\n",
      "Data columns (total 9 columns):\n",
      " #   Column        Non-Null Count  Dtype  \n",
      "---  ------        --------------  -----  \n",
      " 0   mpg           398 non-null    float64\n",
      " 1   cylinders     398 non-null    int64  \n",
      " 2   displacement  398 non-null    float64\n",
      " 3   horsepower    398 non-null    object \n",
      " 4   weight        398 non-null    int64  \n",
      " 5   acceleration  398 non-null    float64\n",
      " 6   model year    398 non-null    int64  \n",
      " 7   origin        398 non-null    int64  \n",
      " 8   car name      398 non-null    object \n",
      "dtypes: float64(3), int64(4), object(2)\n",
      "memory usage: 28.1+ KB\n"
     ]
    }
   ],
   "source": [
    "df.info()"
   ]
  },
  {
   "cell_type": "code",
   "execution_count": 6,
   "id": "0f7f256c-405a-4503-9762-f20e9cfc4bc5",
   "metadata": {},
   "outputs": [
    {
     "data": {
      "text/plain": [
       "mpg             0\n",
       "cylinders       0\n",
       "displacement    0\n",
       "horsepower      0\n",
       "weight          0\n",
       "acceleration    0\n",
       "model year      0\n",
       "origin          0\n",
       "car name        0\n",
       "dtype: int64"
      ]
     },
     "execution_count": 6,
     "metadata": {},
     "output_type": "execute_result"
    }
   ],
   "source": [
    "df.isna().sum()"
   ]
  },
  {
   "cell_type": "code",
   "execution_count": 7,
   "id": "b80ce4d4-524b-41ae-b3bb-9147d63b5ca5",
   "metadata": {},
   "outputs": [
    {
     "data": {
      "text/plain": [
       "mpg             float64\n",
       "cylinders         int64\n",
       "displacement    float64\n",
       "horsepower       object\n",
       "weight            int64\n",
       "acceleration    float64\n",
       "model year        int64\n",
       "origin            int64\n",
       "car name         object\n",
       "dtype: object"
      ]
     },
     "execution_count": 7,
     "metadata": {},
     "output_type": "execute_result"
    }
   ],
   "source": [
    "df.dtypes"
   ]
  },
  {
   "cell_type": "code",
   "execution_count": 8,
   "id": "4118c26c-b33e-4a64-adeb-e5a7c31841c2",
   "metadata": {},
   "outputs": [
    {
     "data": {
      "text/plain": [
       "mpg             129\n",
       "cylinders         5\n",
       "displacement     82\n",
       "horsepower       94\n",
       "weight          351\n",
       "acceleration     95\n",
       "model year       13\n",
       "origin            3\n",
       "car name        305\n",
       "dtype: int64"
      ]
     },
     "execution_count": 8,
     "metadata": {},
     "output_type": "execute_result"
    }
   ],
   "source": [
    "df.nunique()"
   ]
  },
  {
   "cell_type": "code",
   "execution_count": 9,
   "id": "3c28b4f2-66fe-4b62-b869-e93a05d2241a",
   "metadata": {},
   "outputs": [
    {
     "data": {
      "text/plain": [
       "array([1, 3, 2], dtype=int64)"
      ]
     },
     "execution_count": 9,
     "metadata": {},
     "output_type": "execute_result"
    }
   ],
   "source": [
    "df.origin.unique()"
   ]
  },
  {
   "cell_type": "code",
   "execution_count": 10,
   "id": "ac50470f-f19b-4238-9321-1f354079b941",
   "metadata": {},
   "outputs": [
    {
     "data": {
      "text/html": [
       "<div>\n",
       "<style scoped>\n",
       "    .dataframe tbody tr th:only-of-type {\n",
       "        vertical-align: middle;\n",
       "    }\n",
       "\n",
       "    .dataframe tbody tr th {\n",
       "        vertical-align: top;\n",
       "    }\n",
       "\n",
       "    .dataframe thead th {\n",
       "        text-align: right;\n",
       "    }\n",
       "</style>\n",
       "<table border=\"1\" class=\"dataframe\">\n",
       "  <thead>\n",
       "    <tr style=\"text-align: right;\">\n",
       "      <th></th>\n",
       "      <th>car name</th>\n",
       "      <th>count</th>\n",
       "    </tr>\n",
       "  </thead>\n",
       "  <tbody>\n",
       "    <tr>\n",
       "      <th>0</th>\n",
       "      <td>ford pinto</td>\n",
       "      <td>6</td>\n",
       "    </tr>\n",
       "    <tr>\n",
       "      <th>2</th>\n",
       "      <td>amc matador</td>\n",
       "      <td>5</td>\n",
       "    </tr>\n",
       "    <tr>\n",
       "      <th>3</th>\n",
       "      <td>ford maverick</td>\n",
       "      <td>5</td>\n",
       "    </tr>\n",
       "    <tr>\n",
       "      <th>1</th>\n",
       "      <td>toyota corolla</td>\n",
       "      <td>5</td>\n",
       "    </tr>\n",
       "    <tr>\n",
       "      <th>4</th>\n",
       "      <td>chevrolet chevette</td>\n",
       "      <td>4</td>\n",
       "    </tr>\n",
       "    <tr>\n",
       "      <th>5</th>\n",
       "      <td>amc gremlin</td>\n",
       "      <td>4</td>\n",
       "    </tr>\n",
       "    <tr>\n",
       "      <th>6</th>\n",
       "      <td>chevrolet impala</td>\n",
       "      <td>4</td>\n",
       "    </tr>\n",
       "    <tr>\n",
       "      <th>7</th>\n",
       "      <td>peugeot 504</td>\n",
       "      <td>4</td>\n",
       "    </tr>\n",
       "    <tr>\n",
       "      <th>8</th>\n",
       "      <td>amc hornet</td>\n",
       "      <td>4</td>\n",
       "    </tr>\n",
       "    <tr>\n",
       "      <th>9</th>\n",
       "      <td>toyota corona</td>\n",
       "      <td>4</td>\n",
       "    </tr>\n",
       "    <tr>\n",
       "      <th>16</th>\n",
       "      <td>chevrolet nova</td>\n",
       "      <td>3</td>\n",
       "    </tr>\n",
       "    <tr>\n",
       "      <th>21</th>\n",
       "      <td>plymouth duster</td>\n",
       "      <td>3</td>\n",
       "    </tr>\n",
       "    <tr>\n",
       "      <th>20</th>\n",
       "      <td>chevrolet vega</td>\n",
       "      <td>3</td>\n",
       "    </tr>\n",
       "    <tr>\n",
       "      <th>18</th>\n",
       "      <td>plymouth fury iii</td>\n",
       "      <td>3</td>\n",
       "    </tr>\n",
       "    <tr>\n",
       "      <th>17</th>\n",
       "      <td>pontiac catalina</td>\n",
       "      <td>3</td>\n",
       "    </tr>\n",
       "  </tbody>\n",
       "</table>\n",
       "</div>"
      ],
      "text/plain": [
       "              car name  count\n",
       "0           ford pinto      6\n",
       "2          amc matador      5\n",
       "3        ford maverick      5\n",
       "1       toyota corolla      5\n",
       "4   chevrolet chevette      4\n",
       "5          amc gremlin      4\n",
       "6     chevrolet impala      4\n",
       "7          peugeot 504      4\n",
       "8           amc hornet      4\n",
       "9        toyota corona      4\n",
       "16      chevrolet nova      3\n",
       "21     plymouth duster      3\n",
       "20      chevrolet vega      3\n",
       "18   plymouth fury iii      3\n",
       "17    pontiac catalina      3"
      ]
     },
     "execution_count": 10,
     "metadata": {},
     "output_type": "execute_result"
    }
   ],
   "source": [
    "df['car name'].value_counts().reset_index().sort_values(by='count', ascending=False).head(15)"
   ]
  },
  {
   "cell_type": "code",
   "execution_count": 11,
   "id": "bb02be5d-c456-4f00-b565-132ace122471",
   "metadata": {},
   "outputs": [
    {
     "data": {
      "text/plain": [
       "False    398\n",
       "Name: count, dtype: int64"
      ]
     },
     "execution_count": 11,
     "metadata": {},
     "output_type": "execute_result"
    }
   ],
   "source": [
    "df.duplicated().value_counts()"
   ]
  },
  {
   "cell_type": "code",
   "execution_count": 12,
   "id": "231e51a3-cc78-4a4e-ab8c-ca6bc5b2ba29",
   "metadata": {},
   "outputs": [
    {
     "data": {
      "text/html": [
       "<div>\n",
       "<style scoped>\n",
       "    .dataframe tbody tr th:only-of-type {\n",
       "        vertical-align: middle;\n",
       "    }\n",
       "\n",
       "    .dataframe tbody tr th {\n",
       "        vertical-align: top;\n",
       "    }\n",
       "\n",
       "    .dataframe thead th {\n",
       "        text-align: right;\n",
       "    }\n",
       "</style>\n",
       "<table border=\"1\" class=\"dataframe\">\n",
       "  <thead>\n",
       "    <tr style=\"text-align: right;\">\n",
       "      <th></th>\n",
       "      <th>mpg</th>\n",
       "      <th>cylinders</th>\n",
       "      <th>displacement</th>\n",
       "      <th>weight</th>\n",
       "      <th>acceleration</th>\n",
       "      <th>model year</th>\n",
       "      <th>origin</th>\n",
       "    </tr>\n",
       "  </thead>\n",
       "  <tbody>\n",
       "    <tr>\n",
       "      <th>count</th>\n",
       "      <td>398.000000</td>\n",
       "      <td>398.000000</td>\n",
       "      <td>398.000000</td>\n",
       "      <td>398.000000</td>\n",
       "      <td>398.000000</td>\n",
       "      <td>398.000000</td>\n",
       "      <td>398.000000</td>\n",
       "    </tr>\n",
       "    <tr>\n",
       "      <th>mean</th>\n",
       "      <td>23.514573</td>\n",
       "      <td>5.454774</td>\n",
       "      <td>193.425879</td>\n",
       "      <td>2970.424623</td>\n",
       "      <td>15.568090</td>\n",
       "      <td>76.010050</td>\n",
       "      <td>1.572864</td>\n",
       "    </tr>\n",
       "    <tr>\n",
       "      <th>std</th>\n",
       "      <td>7.815984</td>\n",
       "      <td>1.701004</td>\n",
       "      <td>104.269838</td>\n",
       "      <td>846.841774</td>\n",
       "      <td>2.757689</td>\n",
       "      <td>3.697627</td>\n",
       "      <td>0.802055</td>\n",
       "    </tr>\n",
       "    <tr>\n",
       "      <th>min</th>\n",
       "      <td>9.000000</td>\n",
       "      <td>3.000000</td>\n",
       "      <td>68.000000</td>\n",
       "      <td>1613.000000</td>\n",
       "      <td>8.000000</td>\n",
       "      <td>70.000000</td>\n",
       "      <td>1.000000</td>\n",
       "    </tr>\n",
       "    <tr>\n",
       "      <th>25%</th>\n",
       "      <td>17.500000</td>\n",
       "      <td>4.000000</td>\n",
       "      <td>104.250000</td>\n",
       "      <td>2223.750000</td>\n",
       "      <td>13.825000</td>\n",
       "      <td>73.000000</td>\n",
       "      <td>1.000000</td>\n",
       "    </tr>\n",
       "    <tr>\n",
       "      <th>50%</th>\n",
       "      <td>23.000000</td>\n",
       "      <td>4.000000</td>\n",
       "      <td>148.500000</td>\n",
       "      <td>2803.500000</td>\n",
       "      <td>15.500000</td>\n",
       "      <td>76.000000</td>\n",
       "      <td>1.000000</td>\n",
       "    </tr>\n",
       "    <tr>\n",
       "      <th>75%</th>\n",
       "      <td>29.000000</td>\n",
       "      <td>8.000000</td>\n",
       "      <td>262.000000</td>\n",
       "      <td>3608.000000</td>\n",
       "      <td>17.175000</td>\n",
       "      <td>79.000000</td>\n",
       "      <td>2.000000</td>\n",
       "    </tr>\n",
       "    <tr>\n",
       "      <th>max</th>\n",
       "      <td>46.600000</td>\n",
       "      <td>8.000000</td>\n",
       "      <td>455.000000</td>\n",
       "      <td>5140.000000</td>\n",
       "      <td>24.800000</td>\n",
       "      <td>82.000000</td>\n",
       "      <td>3.000000</td>\n",
       "    </tr>\n",
       "  </tbody>\n",
       "</table>\n",
       "</div>"
      ],
      "text/plain": [
       "              mpg   cylinders  displacement       weight  acceleration   \n",
       "count  398.000000  398.000000    398.000000   398.000000    398.000000  \\\n",
       "mean    23.514573    5.454774    193.425879  2970.424623     15.568090   \n",
       "std      7.815984    1.701004    104.269838   846.841774      2.757689   \n",
       "min      9.000000    3.000000     68.000000  1613.000000      8.000000   \n",
       "25%     17.500000    4.000000    104.250000  2223.750000     13.825000   \n",
       "50%     23.000000    4.000000    148.500000  2803.500000     15.500000   \n",
       "75%     29.000000    8.000000    262.000000  3608.000000     17.175000   \n",
       "max     46.600000    8.000000    455.000000  5140.000000     24.800000   \n",
       "\n",
       "       model year      origin  \n",
       "count  398.000000  398.000000  \n",
       "mean    76.010050    1.572864  \n",
       "std      3.697627    0.802055  \n",
       "min     70.000000    1.000000  \n",
       "25%     73.000000    1.000000  \n",
       "50%     76.000000    1.000000  \n",
       "75%     79.000000    2.000000  \n",
       "max     82.000000    3.000000  "
      ]
     },
     "execution_count": 12,
     "metadata": {},
     "output_type": "execute_result"
    }
   ],
   "source": [
    "df.describe()"
   ]
  },
  {
   "cell_type": "markdown",
   "id": "546f03f3-7a1d-4359-a1c0-cc6fb07d955c",
   "metadata": {},
   "source": [
    "---\n",
    "\n",
    "#### Queremos prever a autonomia do veículo (mpg) a partir de seus atributos\n",
    "\n",
    "> \"The data concerns city-cycle fuel consumption in miles per gallon,\n",
    "to be predicted in terms of 3 multivalued discrete and 5 continuous\n",
    "attributes.\" (Quinlan, 1993)\n",
    "\n",
    "- No presente exemplo vamos ter um teste simples em que usaremos apenas o peso do veículo para nos familiarizarmos de forma mais simples com os conceitos."
   ]
  },
  {
   "cell_type": "code",
   "execution_count": 13,
   "id": "3f628364-e461-41ed-a538-bec172e46b03",
   "metadata": {},
   "outputs": [
    {
     "data": {
      "image/png": "[encoded data removed]",
      "text/plain": [
       "<Figure size 432x288 with 1 Axes>"
      ]
     },
     "metadata": {
      "needs_background": "light"
     },
     "output_type": "display_data"
    }
   ],
   "source": [
    "# analisando a dispersão dos dados com gráfico de dispersão\n",
    "\n",
    "plt.scatter(df.weight, df.mpg)\n",
    "plt.xlabel('Peso do veículo (libras)')\n",
    "plt.ylabel('Autonomia do veículo (mpg)') # mpg = milhas por galão\n",
    "plt.title('Relação entre peso e autonomia dos veículos')\n",
    "\n",
    "plt.savefig('./fig1.jpeg', dpi = 300)"
   ]
  },
  {
   "cell_type": "markdown",
   "id": "764a4b4f-b27b-4dfe-a769-6836ca0ba1c1",
   "metadata": {},
   "source": [
    "---\n",
    "\n",
    "#### Pré-processamento"
   ]
  },
  {
   "cell_type": "markdown",
   "id": "095879df-e987-4f19-9dff-d866348ac75d",
   "metadata": {},
   "source": [
    "---\n",
    "\n",
    "**``1.separando variável explicativa e target e convertendo unidades p/ padrão brasileiro``**"
   ]
  },
  {
   "cell_type": "code",
   "execution_count": 14,
   "id": "cda8ad31-53da-40ee-916d-f8087467db14",
   "metadata": {},
   "outputs": [],
   "source": [
    "X = df[['weight']]\n",
    "Y = df[['mpg']]\n",
    "\n",
    "# Convertendo peso de libras -> kg \n",
    "# milhas/l -> km/l\n",
    "\n",
    "X = X * 0.453592\n",
    "Y = Y * 0.425143707"
   ]
  },
  {
   "cell_type": "code",
   "execution_count": 15,
   "id": "679733ff-9681-48a5-8dc1-d76de4be8854",
   "metadata": {
    "tags": []
   },
   "outputs": [
    {
     "data": {
      "text/plain": [
       "(          weight\n",
       " 0    1589.386368\n",
       " 1    1675.115256\n",
       " 2    1558.542112\n",
       " 3    1557.181336\n",
       " 4    1564.438808\n",
       " ..           ...\n",
       " 393  1265.521680\n",
       " 394   966.150960\n",
       " 395  1040.993640\n",
       " 396  1190.679000\n",
       " 397  1233.770240\n",
       " \n",
       " [398 rows x 1 columns],\n",
       "            mpg\n",
       " 0     7.652587\n",
       " 1     6.377156\n",
       " 2     7.652587\n",
       " 3     6.802299\n",
       " 4     7.227443\n",
       " ..         ...\n",
       " 393  11.478880\n",
       " 394  18.706323\n",
       " 395  13.604599\n",
       " 396  11.904024\n",
       " 397  13.179455\n",
       " \n",
       " [398 rows x 1 columns])"
      ]
     },
     "execution_count": 15,
     "metadata": {},
     "output_type": "execute_result"
    }
   ],
   "source": [
    "X, Y"
   ]
  },
  {
   "cell_type": "markdown",
   "id": "5ec04c62-e041-49e3-b8d7-1bbf3da170f3",
   "metadata": {},
   "source": [
    "---\n",
    "\n",
    "**``2.Dados estão em escalas muito grandes, precisamos normalizar isso para que facilite o aprendizado pela descida do gradiente!``**\n",
    "\n",
    "> Nota: escala pode afetar diretamente o tamanho dos passos dados pelo algoritmo em direção ao mínimo da função de custo, podendo levá-lo a convergir lentamente."
   ]
  },
  {
   "cell_type": "code",
   "execution_count": 16,
   "id": "624ecef1-6b05-401e-ad2d-841fcee2f508",
   "metadata": {},
   "outputs": [],
   "source": [
    "escala = StandardScaler()\n",
    "escala.fit(X) # dizendo para escala se moldar em torno da estrutura da variável X. Transforma os valores para terem média 0 e desvio padrão 1.\n",
    "X_norm = escala.transform(X)"
   ]
  },
  {
   "cell_type": "code",
   "execution_count": 17,
   "id": "f539eb0c-c946-49eb-b151-8b8207b038b8",
   "metadata": {},
   "outputs": [
    {
     "data": {
      "text/plain": [
       "array([[0.63086987],\n",
       "       [0.85433297],\n",
       "       [0.55047045],\n",
       "       [0.54692342],\n",
       "       [0.56584093]])"
      ]
     },
     "execution_count": 17,
     "metadata": {},
     "output_type": "execute_result"
    }
   ],
   "source": [
    "X_norm[:5]"
   ]
  },
  {
   "cell_type": "code",
   "execution_count": 18,
   "id": "c1b784e9-4ce4-458a-bfea-c6fb4de19460",
   "metadata": {},
   "outputs": [
    {
     "data": {
      "text/plain": [
       "(1.2496982789750506e-16, 1.0)"
      ]
     },
     "execution_count": 18,
     "metadata": {},
     "output_type": "execute_result"
    }
   ],
   "source": [
    "X_norm.mean(), X_norm.std()"
   ]
  },
  {
   "cell_type": "code",
   "execution_count": 19,
   "id": "a8d13f8b-020e-46c3-a1b1-adf3d7a15cb8",
   "metadata": {},
   "outputs": [
    {
     "data": {
      "text/plain": [
       "(array([31., 90., 59., 54., 37., 40., 29., 34., 18.,  6.]),\n",
       " array([-1.60494344, -1.18793056, -0.77091768, -0.3539048 ,  0.06310808,\n",
       "         0.48012096,  0.89713384,  1.31414672,  1.7311596 ,  2.14817248,\n",
       "         2.56518536]),\n",
       " <BarContainer object of 10 artists>)"
      ]
     },
     "execution_count": 19,
     "metadata": {},
     "output_type": "execute_result"
    },
    {
     "data": {
      "image/png": "[encoded data removed]",
      "text/plain": [
       "<Figure size 432x288 with 1 Axes>"
      ]
     },
     "metadata": {
      "needs_background": "light"
     },
     "output_type": "display_data"
    }
   ],
   "source": [
    "plt.hist(X_norm)"
   ]
  },
  {
   "cell_type": "code",
   "execution_count": 20,
   "id": "6a497c2c-4d37-4626-b8a6-64958c7cef1b",
   "metadata": {},
   "outputs": [
    {
     "data": {
      "text/plain": [
       "(array([-1.60494344]), array([2.56518536]))"
      ]
     },
     "execution_count": 20,
     "metadata": {},
     "output_type": "execute_result"
    }
   ],
   "source": [
    "min(X_norm), max(X_norm)"
   ]
  },
  {
   "cell_type": "code",
   "execution_count": 21,
   "id": "19f12a5d-42f6-4edc-9876-3a3336b3266c",
   "metadata": {},
   "outputs": [
    {
     "data": {
      "text/plain": [
       "{'whiskers': [<matplotlib.lines.Line2D at 0x184642c86d0>,\n",
       "  <matplotlib.lines.Line2D at 0x184642c89a0>],\n",
       " 'caps': [<matplotlib.lines.Line2D at 0x184642c8d30>,\n",
       "  <matplotlib.lines.Line2D at 0x184642d5100>],\n",
       " 'boxes': [<matplotlib.lines.Line2D at 0x184642c8220>],\n",
       " 'medians': [<matplotlib.lines.Line2D at 0x184642d5490>],\n",
       " 'fliers': [<matplotlib.lines.Line2D at 0x184642d5820>],\n",
       " 'means': []}"
      ]
     },
     "execution_count": 21,
     "metadata": {},
     "output_type": "execute_result"
    },
    {
     "data": {
      "image/png": "[encoded data removed]",
      "text/plain": [
       "<Figure size 432x288 with 1 Axes>"
      ]
     },
     "metadata": {
      "needs_background": "light"
     },
     "output_type": "display_data"
    }
   ],
   "source": [
    "plt.boxplot(X_norm)"
   ]
  },
  {
   "cell_type": "markdown",
   "id": "3e3ffb7e-ea29-4086-8247-b0815ca0ac77",
   "metadata": {},
   "source": [
    "---\n",
    "\n",
    "**``3. Separando conjundo de dados entre treino e teste``**"
   ]
  },
  {
   "cell_type": "code",
   "execution_count": 22,
   "id": "8f138a4c-b134-4b35-adbb-86722ef49bae",
   "metadata": {},
   "outputs": [],
   "source": [
    "# Retorna 4 matrizes (x treino e x teste + y treino e y teste)\n",
    "X_norm_train, X_norm_test, Y_train, Y_test = train_test_split(X_norm, Y, test_size = 0.3) # separando 30% dos dados para teste e 70% para treino"
   ]
  },
  {
   "cell_type": "code",
   "execution_count": 23,
   "id": "5ee82c02-2cc1-44e9-8307-9b0b037b689e",
   "metadata": {},
   "outputs": [
    {
     "data": {
      "text/plain": [
       "((278, 1), (120, 1), (278, 1), (120, 1))"
      ]
     },
     "execution_count": 23,
     "metadata": {},
     "output_type": "execute_result"
    }
   ],
   "source": [
    "X_norm_train.shape, X_norm_test.shape, Y_train.shape, Y_test.shape"
   ]
  },
  {
   "cell_type": "markdown",
   "id": "930ca6ab-4e86-4c61-ac06-27538d9f684e",
   "metadata": {},
   "source": [
    "---\n",
    "\n",
    "#### Processamento"
   ]
  },
  {
   "cell_type": "markdown",
   "id": "45ccc0c3-5428-4089-8ca9-03abb7279bd8",
   "metadata": {},
   "source": [
    "---\n",
    "\n",
    "**``1. Aplicando modelo de aprendizagem de máquina``**\n",
    "\n",
    "**Gradient descent summary (Resumo do curso da DeepLearning.AI):**\n",
    "\n",
    "We have developed a linear model that predicts $f_{w,b}(x^{(i)})$:\n",
    "\n",
    "$$f_{w,b}(x^{(i)}) = wx^{(i)} + b \\tag{1}$$\n",
    "\n",
    "In linear regression, you utilize input training data to fit the parameters $w$,$b$ by minimizing a measure of the error between our predictions $f_{w,b}(x^{(i)})$ and the actual data $y^{(i)}$. The measure is called the $cost$, $J(w,b)$. In training you measure the cost over all of our training samples $x^{(i)},y^{(i)}$\n",
    "\n",
    "$$J(w,b) = \\frac{1}{2m} \\sum\\limits_{i = 0}^{m-1} (f_{w,b}(x^{(i)}) - y^{(i)})^2\\tag{2}$$ \n",
    "\n",
    "\n",
    "\n",
    "In lecture, *gradient descent* was described as:\n",
    "\n",
    "$$\\begin{align*} \\text{repeat}&\\text{ until convergence:} \\; \\lbrace \\newline\n",
    "\\;  w &= w -  \\alpha \\frac{\\partial J(w,b)}{\\partial w} \\tag{3}  \\; \\newline \n",
    " b &= b -  \\alpha \\frac{\\partial J(w,b)}{\\partial b}  \\newline \\rbrace\n",
    "\\end{align*}$$\n",
    "where, parameters $w$, $b$ are updated simultaneously.  \n",
    "The gradient is defined as:\n",
    "$$\n",
    "\\begin{align}\n",
    "\\frac{\\partial J(w,b)}{\\partial w}  &= \\frac{1}{m} \\sum\\limits_{i = 0}^{m-1} (f_{w,b}(x^{(i)}) - y^{(i)})x^{(i)} \\tag{4}\\\\\n",
    "  \\frac{\\partial J(w,b)}{\\partial b}  &= \\frac{1}{m} \\sum\\limits_{i = 0}^{m-1} (f_{w,b}(x^{(i)}) - y^{(i)}) \\tag{5}\\\\\n",
    "\\end{align}\n",
    "$$\n",
    "\n",
    "Here *simultaniously* means that you calculate the partial derivatives for all the parameters before updating any of the parameters.\n",
    "\n",
    "\n",
    "---\n",
    "\n",
    "\n",
    "#### No presente exemplo da aula da UFG foi usado o modelo estocástico de descida de gradiente.\n",
    "\n",
    "<figure>\n",
    "  <img align=\"left\" src=\"./gradiente_from_towards.webp\" style=\"width:340px;height:240px;\">\n",
    "</figure>\n",
    "\n",
    "Fonte da imagem: [Towards Data Science](https://towardsdatascience.com/batch-mini-batch-stochastic-gradient-descent-7a62ecba642a)\n",
    "\n",
    "\n",
    "ChatGPT: O modelo estocástico de descida de gradiente (ou Stochastic Gradient Descent, SGD) é uma variação do algoritmo de descida de gradiente que utiliza um subconjunto aleatório de dados (chamado de \"mini-batch\" ou \"exemplo único\") para calcular o gradiente e atualizar os parâmetros do modelo, em vez de usar o conjunto completo de dados.\n",
    "\n",
    "- Na aula do curso da DeepLearning.AI comentamos sobre o exemplo em que testa o lote todo! Ele é conhecido como  Batch Gradient Descent (Batch em inglês significa lote).\n",
    "\n",
    "- Aqui tá um artigo explicando diferentes abordagens de descida de gradiente: https://towardsdatascience.com/batch-mini-batch-stochastic-gradient-descent-7a62ecba642a\n",
    "\n",
    "---\n",
    "\n",
    "<figure>\n",
    "  <img align=\"left\" src=\"./desc_gradiente_estocastico.webp\" style=\"width:240px;height:340px;\">\n",
    "</figure>\n",
    "\n",
    "Fonte da imagem: [Towards Data Science](https://towardsdatascience.com/batch-mini-batch-stochastic-gradient-descent-7a62ecba642a)\n",
    "\n",
    "> \"The more the data the more chances of a model to be good. Suppose our dataset has 5 million examples, then just to take one step the model will have to calculate the gradients of all the 5 million examples. This does not seem an efficient way. To tackle this problem we have Stochastic Gradient Descent. In Stochastic Gradient Descent (SGD), we consider just one example at a time to take a single step.\" [Fonte aqui!](https://towardsdatascience.com/batch-mini-batch-stochastic-gradient-descent-7a62ecba642a)\n",
    "\n",
    "> Sobre isso, o que temos no curso da DeepLearning.AI: _\"Quando você ouve alguém falar sobre descida de gradiente, essa pessoa sempre se refere às descidas de gradiente em que você executa uma atualização simultânea dos parâmetros. **Se, no entanto, você implementasse uma atualização não simultânea, provavelmente funcionará mais ou menos de qualquer maneira. Mas fazer isso dessa maneira não é realmente a maneira correta de implementá-lo, é na verdade algum outro algoritmo com propriedades diferentes**. Eu aconselho você a manter a atualização simultânea correta e não usar essa versão incorreta [...].\"_\n",
    "\n",
    "> Sobre isso, o que nos diz o artigo da Towards Data Science: \"Since we are considering just one example at a time the cost will fluctuate over the training examples and it will not necessarily decrease. But in the long run, you will see the cost decreasing with fluctuations. Also because the cost is so fluctuating, it will never reach the minima but it will keep dancing around it. SGD can be used for larger datasets. It converges faster when the dataset is large as it causes updates to the parameters more frequently. [...] Batch Gradient Descent converges directly to minima. SGD converges faster for larger datasets. But, since in SGD we use only one example at a time, we cannot implement the vectorized implementation on it. This can slow down the computations. [...] Just like every other thing in this world, all the three variants we saw have their advantages as well as disadvantages.\" [Fonte aqui!](https://towardsdatascience.com/batch-mini-batch-stochastic-gradient-descent-7a62ecba642a)\n",
    "\n",
    "\n",
    "\n"
   ]
  },
  {
   "cell_type": "markdown",
   "id": "660de776-91d8-4ccf-aa37-6c7f9665a03d",
   "metadata": {},
   "source": [
    "---\n",
    "> \"Na equação, Alpha também é chamado de taxa de aprendizado. A taxa de aprendizado geralmente é um pequeno número positivo entre 0 e 1 e pode ser, digamos, 0,01. O que o Alpha faz é basicamente controlar o tamanho do passo que você dá ladeira abaixo. Se o Alpha for muito grande, isso corresponde a um procedimento de descida de gradiente muito agressivo, no qual você está tentando dar grandes passos ladeira abaixo. Se Alpha for muito pequeno, você estaria dando pequenos passos ladeira abaixo.\""
   ]
  },
  {
   "cell_type": "code",
   "execution_count": 24,
   "id": "76e84154-4c46-46b9-b9d0-1ac68bc315d8",
   "metadata": {},
   "outputs": [],
   "source": [
    "### Sobre os hiperparâmetros\n",
    "\n",
    "# max_iter: número máximo de épocas; executará até 500 interações de épocasse não convergir antes\n",
    "# learning rate: taxa de aprendizagem (o fator que vai multiplicar o gradiente a cada época)\n",
    "# tol: se a acada época a função de custo não melhor em pelo menos 0.0001, quer dizer que o algoritmo convergiu e dessa forma ele pode parar antes\n",
    "\n",
    "RegL = SGDRegressor(max_iter=500, \n",
    "                    eta0=0.01, # taxa inicial de aprendizagem\n",
    "                    tol=0.0001,\n",
    "                    verbose=1 # mostra comoserá o aprendizado do modelo para cada época\n",
    "                   )"
   ]
  },
  {
   "cell_type": "code",
   "execution_count": 25,
   "id": "24a2646b-e85a-462e-81d8-cfe43ab62ce8",
   "metadata": {},
   "outputs": [
    {
     "name": "stdout",
     "output_type": "stream",
     "text": [
      "-- Epoch 1\n",
      "Norm: 1.77, NNZs: 1, Bias: 5.951388, T: 278, Avg. loss: 23.515037\n",
      "Total training time: 0.00 seconds.\n",
      "-- Epoch 2\n",
      "Norm: 2.29, NNZs: 1, Bias: 7.827304, T: 556, Avg. loss: 6.480026\n",
      "Total training time: 0.00 seconds.\n",
      "-- Epoch 3\n",
      "Norm: 2.54, NNZs: 1, Bias: 8.737992, T: 834, Avg. loss: 3.050836\n",
      "Total training time: 0.00 seconds.\n",
      "-- Epoch 4\n",
      "Norm: 2.68, NNZs: 1, Bias: 9.220950, T: 1112, Avg. loss: 2.066408\n",
      "Total training time: 0.00 seconds.\n",
      "-- Epoch 5\n",
      "Norm: 2.75, NNZs: 1, Bias: 9.502037, T: 1390, Avg. loss: 1.741053\n",
      "Total training time: 0.00 seconds.\n",
      "-- Epoch 6\n",
      "Norm: 2.79, NNZs: 1, Bias: 9.678706, T: 1668, Avg. loss: 1.619541\n",
      "Total training time: 0.00 seconds.\n",
      "-- Epoch 7\n",
      "Norm: 2.81, NNZs: 1, Bias: 9.781798, T: 1946, Avg. loss: 1.571951\n",
      "Total training time: 0.00 seconds.\n",
      "-- Epoch 8\n",
      "Norm: 2.83, NNZs: 1, Bias: 9.849997, T: 2224, Avg. loss: 1.553328\n",
      "Total training time: 0.00 seconds.\n",
      "-- Epoch 9\n",
      "Norm: 2.84, NNZs: 1, Bias: 9.900079, T: 2502, Avg. loss: 1.544142\n",
      "Total training time: 0.00 seconds.\n",
      "-- Epoch 10\n",
      "Norm: 2.85, NNZs: 1, Bias: 9.929177, T: 2780, Avg. loss: 1.540644\n",
      "Total training time: 0.00 seconds.\n",
      "-- Epoch 11\n",
      "Norm: 2.86, NNZs: 1, Bias: 9.947334, T: 3058, Avg. loss: 1.539192\n",
      "Total training time: 0.00 seconds.\n",
      "-- Epoch 12\n",
      "Norm: 2.86, NNZs: 1, Bias: 9.949899, T: 3336, Avg. loss: 1.538038\n",
      "Total training time: 0.00 seconds.\n",
      "-- Epoch 13\n",
      "Norm: 2.86, NNZs: 1, Bias: 9.962866, T: 3614, Avg. loss: 1.538275\n",
      "Total training time: 0.00 seconds.\n",
      "-- Epoch 14\n",
      "Norm: 2.86, NNZs: 1, Bias: 9.963307, T: 3892, Avg. loss: 1.537678\n",
      "Total training time: 0.00 seconds.\n",
      "-- Epoch 15\n",
      "Norm: 2.86, NNZs: 1, Bias: 9.962852, T: 4170, Avg. loss: 1.537852\n",
      "Total training time: 0.00 seconds.\n",
      "-- Epoch 16\n",
      "Norm: 2.86, NNZs: 1, Bias: 9.967472, T: 4448, Avg. loss: 1.538016\n",
      "Total training time: 0.00 seconds.\n",
      "-- Epoch 17\n",
      "Norm: 2.86, NNZs: 1, Bias: 9.970552, T: 4726, Avg. loss: 1.537918\n",
      "Total training time: 0.00 seconds.\n",
      "-- Epoch 18\n",
      "Norm: 2.86, NNZs: 1, Bias: 9.977279, T: 5004, Avg. loss: 1.537611\n",
      "Total training time: 0.00 seconds.\n",
      "-- Epoch 19\n",
      "Norm: 2.87, NNZs: 1, Bias: 9.980854, T: 5282, Avg. loss: 1.537447\n",
      "Total training time: 0.00 seconds.\n",
      "-- Epoch 20\n",
      "Norm: 2.87, NNZs: 1, Bias: 9.977379, T: 5560, Avg. loss: 1.537507\n",
      "Total training time: 0.00 seconds.\n",
      "-- Epoch 21\n",
      "Norm: 2.87, NNZs: 1, Bias: 9.982391, T: 5838, Avg. loss: 1.537466\n",
      "Total training time: 0.00 seconds.\n",
      "-- Epoch 22\n",
      "Norm: 2.87, NNZs: 1, Bias: 9.986198, T: 6116, Avg. loss: 1.537441\n",
      "Total training time: 0.00 seconds.\n",
      "-- Epoch 23\n",
      "Norm: 2.87, NNZs: 1, Bias: 9.984828, T: 6394, Avg. loss: 1.537536\n",
      "Total training time: 0.00 seconds.\n",
      "-- Epoch 24\n",
      "Norm: 2.87, NNZs: 1, Bias: 9.985448, T: 6672, Avg. loss: 1.537489\n",
      "Total training time: 0.00 seconds.\n",
      "Convergence after 24 epochs took 0.00 seconds\n"
     ]
    },
    {
     "name": "stderr",
     "output_type": "stream",
     "text": [
      "C:\\Users\\Maria Rafaela\\Anaconda3\\lib\\site-packages\\sklearn\\utils\\validation.py:1183: DataConversionWarning: A column-vector y was passed when a 1d array was expected. Please change the shape of y to (n_samples, ), for example using ravel().\n",
      "  y = column_or_1d(y, warn=True)\n"
     ]
    },
    {
     "data": {
      "text/html": [
       "<style>#sk-container-id-1 {color: black;}#sk-container-id-1 pre{padding: 0;}#sk-container-id-1 div.sk-toggleable {background-color: white;}#sk-container-id-1 label.sk-toggleable__label {cursor: pointer;display: block;width: 100%;margin-bottom: 0;padding: 0.3em;box-sizing: border-box;text-align: center;}#sk-container-id-1 label.sk-toggleable__label-arrow:before {content: \"▸\";float: left;margin-right: 0.25em;color: #696969;}#sk-container-id-1 label.sk-toggleable__label-arrow:hover:before {color: black;}#sk-container-id-1 div.sk-estimator:hover label.sk-toggleable__label-arrow:before {color: black;}#sk-container-id-1 div.sk-toggleable__content {max-height: 0;max-width: 0;overflow: hidden;text-align: left;background-color: #f0f8ff;}#sk-container-id-1 div.sk-toggleable__content pre {margin: 0.2em;color: black;border-radius: 0.25em;background-color: #f0f8ff;}#sk-container-id-1 input.sk-toggleable__control:checked~div.sk-toggleable__content {max-height: 200px;max-width: 100%;overflow: auto;}#sk-container-id-1 input.sk-toggleable__control:checked~label.sk-toggleable__label-arrow:before {content: \"▾\";}#sk-container-id-1 div.sk-estimator input.sk-toggleable__control:checked~label.sk-toggleable__label {background-color: #d4ebff;}#sk-container-id-1 div.sk-label input.sk-toggleable__control:checked~label.sk-toggleable__label {background-color: #d4ebff;}#sk-container-id-1 input.sk-hidden--visually {border: 0;clip: rect(1px 1px 1px 1px);clip: rect(1px, 1px, 1px, 1px);height: 1px;margin: -1px;overflow: hidden;padding: 0;position: absolute;width: 1px;}#sk-container-id-1 div.sk-estimator {font-family: monospace;background-color: #f0f8ff;border: 1px dotted black;border-radius: 0.25em;box-sizing: border-box;margin-bottom: 0.5em;}#sk-container-id-1 div.sk-estimator:hover {background-color: #d4ebff;}#sk-container-id-1 div.sk-parallel-item::after {content: \"\";width: 100%;border-bottom: 1px solid gray;flex-grow: 1;}#sk-container-id-1 div.sk-label:hover label.sk-toggleable__label {background-color: #d4ebff;}#sk-container-id-1 div.sk-serial::before {content: \"\";position: absolute;border-left: 1px solid gray;box-sizing: border-box;top: 0;bottom: 0;left: 50%;z-index: 0;}#sk-container-id-1 div.sk-serial {display: flex;flex-direction: column;align-items: center;background-color: white;padding-right: 0.2em;padding-left: 0.2em;position: relative;}#sk-container-id-1 div.sk-item {position: relative;z-index: 1;}#sk-container-id-1 div.sk-parallel {display: flex;align-items: stretch;justify-content: center;background-color: white;position: relative;}#sk-container-id-1 div.sk-item::before, #sk-container-id-1 div.sk-parallel-item::before {content: \"\";position: absolute;border-left: 1px solid gray;box-sizing: border-box;top: 0;bottom: 0;left: 50%;z-index: -1;}#sk-container-id-1 div.sk-parallel-item {display: flex;flex-direction: column;z-index: 1;position: relative;background-color: white;}#sk-container-id-1 div.sk-parallel-item:first-child::after {align-self: flex-end;width: 50%;}#sk-container-id-1 div.sk-parallel-item:last-child::after {align-self: flex-start;width: 50%;}#sk-container-id-1 div.sk-parallel-item:only-child::after {width: 0;}#sk-container-id-1 div.sk-dashed-wrapped {border: 1px dashed gray;margin: 0 0.4em 0.5em 0.4em;box-sizing: border-box;padding-bottom: 0.4em;background-color: white;}#sk-container-id-1 div.sk-label label {font-family: monospace;font-weight: bold;display: inline-block;line-height: 1.2em;}#sk-container-id-1 div.sk-label-container {text-align: center;}#sk-container-id-1 div.sk-container {/* jupyter's `normalize.less` sets `[hidden] { display: none; }` but bootstrap.min.css set `[hidden] { display: none !important; }` so we also need the `!important` here to be able to override the default hidden behavior on the sphinx rendered scikit-learn.org. See: https://github.com/scikit-learn/scikit-learn/issues/21755 */display: inline-block !important;position: relative;}#sk-container-id-1 div.sk-text-repr-fallback {display: none;}</style><div id=\"sk-container-id-1\" class=\"sk-top-container\"><div class=\"sk-text-repr-fallback\"><pre>SGDRegressor(max_iter=500, tol=0.0001, verbose=1)</pre><b>In a Jupyter environment, please rerun this cell to show the HTML representation or trust the notebook. <br />On GitHub, the HTML representation is unable to render, please try loading this page with nbviewer.org.</b></div><div class=\"sk-container\" hidden><div class=\"sk-item\"><div class=\"sk-estimator sk-toggleable\"><input class=\"sk-toggleable__control sk-hidden--visually\" id=\"sk-estimator-id-1\" type=\"checkbox\" checked><label for=\"sk-estimator-id-1\" class=\"sk-toggleable__label sk-toggleable__label-arrow\">SGDRegressor</label><div class=\"sk-toggleable__content\"><pre>SGDRegressor(max_iter=500, tol=0.0001, verbose=1)</pre></div></div></div></div></div>"
      ],
      "text/plain": [
       "SGDRegressor(max_iter=500, tol=0.0001, verbose=1)"
      ]
     },
     "execution_count": 25,
     "metadata": {},
     "output_type": "execute_result"
    }
   ],
   "source": [
    "# Fazendo com que o modelo realize o aprendizado (.fit = molde)\n",
    "RegL.fit(X_norm_train, Y_train) # Avg. loss: é a nossa função de custo que converge até não conseguir melhorar "
   ]
  },
  {
   "cell_type": "markdown",
   "id": "37b939d5-08de-4e07-929f-ddc8ca493071",
   "metadata": {},
   "source": [
    "---\n",
    "#### Pós processamento\n",
    "\n",
    "----\n",
    "\n",
    "> Usaremos o modelo pré-treinado para tentar prever a eficiência do veículo com base em um peso X contidos nos nossos dados de teste."
   ]
  },
  {
   "cell_type": "code",
   "execution_count": 26,
   "id": "dd3224d2-015d-467a-9e59-7a3552cdfba6",
   "metadata": {},
   "outputs": [],
   "source": [
    "Y_prev = RegL.predict(X_norm_test)"
   ]
  },
  {
   "cell_type": "code",
   "execution_count": 27,
   "id": "85ac4154-462c-4370-a996-891e069dded6",
   "metadata": {},
   "outputs": [
    {
     "data": {
      "text/plain": [
       "array([ 9.41052911, 12.86867782,  8.44428168,  5.05393982, 11.80411047,\n",
       "        5.35907058, 13.40096149,  6.8338693 , 11.94989517,  5.00308469,\n",
       "        7.22375861,  9.3766257 , 11.32607227,  7.78316502, 11.42778253,\n",
       "       10.37677655, 13.26534782, 13.02463354, 10.25811458,  9.03759151,\n",
       "        4.01310486, 13.32637397, 11.26843646,  9.17320518, 11.54305415,\n",
       "       12.76696756,  9.09522732, 13.97053892, 12.85511645,  9.83432185,\n",
       "       12.98733978, 12.85172611,  5.69132409, 11.12265176, 10.19030774,\n",
       "       11.15655518, 12.71950278,  7.80689741, 11.67527748,  5.06411084,\n",
       "        8.17644468, 11.39048876,  6.69825562, 12.41437201, 10.86498578,\n",
       "        7.83402015,  4.94544888, 10.8344727 ,  4.331797  , 10.11232988,\n",
       "       11.56000586,  9.34272228, 12.15670603, 10.45136407,  7.69840647,\n",
       "       12.78391927, 14.46552884,  8.1052475 ,  6.6236681 ,  6.01679691,\n",
       "       13.39418081, 11.81767184,  8.4781851 , 13.42808423, 10.99720911,\n",
       "        3.11466427,  9.47494561, 12.8347744 ,  6.16258161, 13.95358722,\n",
       "       13.12295346, 11.3769274 , 11.89225936,  6.03713896,  6.86099203,\n",
       "       13.44503594, 13.46198764, 12.02109235, 11.24131372,  7.60686724,\n",
       "       12.44488508, 10.97686706,  5.62351725, 12.52964363, 12.52964363,\n",
       "       10.89549885, 13.34332568, 13.39418081,  5.2065052 , 12.3330038 ,\n",
       "        3.25705863, 11.30233988,  8.92910057, 13.32637397,  3.42318538,\n",
       "        8.98673638, 12.50930158, 10.8344727 , 11.10909039,  5.4980746 ,\n",
       "        5.85067016,  4.79288349,  5.97272246,  9.19015689,  5.43704845,\n",
       "       10.60053911,  5.78625366,  9.64785305, 11.12265176, 11.91599175,\n",
       "        7.63398998,  8.08829579, 12.8347744 , 13.05514662, 13.72643431,\n",
       "       12.22451286,  6.22360776,  9.13591142, 12.58049876,  8.44428168])"
      ]
     },
     "execution_count": 27,
     "metadata": {},
     "output_type": "execute_result"
    }
   ],
   "source": [
    "Y_prev"
   ]
  },
  {
   "cell_type": "code",
   "execution_count": 28,
   "id": "40d02012-bf29-4625-b725-3006208b1160",
   "metadata": {},
   "outputs": [
    {
     "data": {
      "text/plain": [
       "<matplotlib.legend.Legend at 0x18464367970>"
      ]
     },
     "execution_count": 28,
     "metadata": {},
     "output_type": "execute_result"
    },
    {
     "data": {
      "image/png": "[encoded data removed]",
      "text/plain": [
       "<Figure size 432x288 with 1 Axes>"
      ]
     },
     "metadata": {
      "needs_background": "light"
     },
     "output_type": "display_data"
    }
   ],
   "source": [
    "plt.scatter(X_norm_test, Y_test, label='Real')\n",
    "plt.scatter(X_norm_test, Y_prev, label='Projetado')\n",
    "plt.legend()"
   ]
  },
  {
   "cell_type": "code",
   "execution_count": 29,
   "id": "f8c18330-afcd-4b32-8acc-1ad46506aff9",
   "metadata": {},
   "outputs": [
    {
     "data": {
      "image/png": "[encoded data removed]",
      "text/plain": [
       "<Figure size 432x288 with 1 Axes>"
      ]
     },
     "metadata": {
      "needs_background": "light"
     },
     "output_type": "display_data"
    }
   ],
   "source": [
    "# Plotando com x fora do processo de normalização aplicado\n",
    "X_test = escala.inverse_transform(X_norm_test)\n",
    "\n",
    "plt.scatter(X_test, Y_test, label='Real')\n",
    "plt.scatter(X_test, Y_prev, label='Projetado')\n",
    "plt.legend()\n",
    "plt.xlabel(\"Peso do veículo (kg)\")\n",
    "plt.ylabel('Autonomia do veículo (km/L)')\n",
    "plt.title('Regressão Linear Simples aplicada a autonomia de veículos')\n",
    "\n",
    "plt.savefig('./fig2.jpeg', dpi = 300)"
   ]
  },
  {
   "cell_type": "code",
   "execution_count": null,
   "id": "41109d53-972b-4158-a511-a94b438df7ea",
   "metadata": {},
   "outputs": [],
   "source": []
  }
 ],
 "metadata": {
  "kernelspec": {
   "display_name": "Python 3 (ipykernel)",
   "language": "python",
   "name": "python3"
  },
  "language_info": {
   "codemirror_mode": {
    "name": "ipython",
    "version": 3
   },
   "file_extension": ".py",
   "mimetype": "text/x-python",
   "name": "python",
   "nbconvert_exporter": "python",
   "pygments_lexer": "ipython3",
   "version": "3.9.7"
  }
 },
 "nbformat": 4,
 "nbformat_minor": 5
}
